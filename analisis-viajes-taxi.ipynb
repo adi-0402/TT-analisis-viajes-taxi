{
 "cells": [
  {
   "cell_type": "markdown",
   "metadata": {},
   "source": [
    "# Análisis de Viajes en Taxi para Zuber"
   ]
  },
  {
   "cell_type": "markdown",
   "metadata": {},
   "source": [
    "# Contenido <a id='back'></a>\n",
    "\n",
    "* [Introducción](#intro)\n",
    "* [Objetivos](#obj)\n",
    "* [Etapa 1. Descripción de los datos](#data_review)\n",
    "* [Etapa 2. Preprocesamiento de datos](#data_preprocessing)\n",
    "* [Etapa 3. Prueba de hipótesis](#hypothesis)\n",
    "* [Conclusiones](#end)"
   ]
  },
  {
   "cell_type": "markdown",
   "metadata": {},
   "source": [
    "## Introducción <a id='intro'></a>\n",
    "En este proyecto, trabajamos como analistas para Zuber una nueva empresa de viajes compartidos que se está lanzando en Chicago. Queremos obtener patrones en la información disponible.y comprender las preferencias de los pasajeros y el impacto de los factores externos en los viajes. \n",
    "\n",
    "## Objetivos: <a id='obj'></a>\n",
    "Probar la hipótesis:\n",
    "1. La duración promedio de los viajes desde el Loop hasta el Aeropuerto Internacional O'Hare cambia los sábados lluviosos.\n",
    "\n",
    "\n",
    "## Etapas:\n",
    "El proyecto consistirá en tres etapas:\n",
    " 1. Descripción de los datos.\n",
    " 2. Preprocesamiento de datos.\n",
    " 3. Prueba de hipótesis.\n"
   ]
  },
  {
   "cell_type": "markdown",
   "metadata": {},
   "source": [
    "## Etapa 1. Descripción de los datos <a id='data_review'></a>\n",
    "\n",
    "Trabajaremos con tres datasets:\n",
    "\n",
    "1. project_sql_result_01.csv. Contiene los siguientes datos: \n",
    "\n",
    "- company_name: nombre de la empresa de taxis\n",
    "\n",
    "- trips_amount: el número de viajes de cada compañía de taxis el 15 y 16 de noviembre de 2017.\n",
    "\n",
    "2. project_sql_result_04.csv. Contiene los siguientes datos:\n",
    "\n",
    "- dropoff_location_name: barrios de Chicago donde finalizaron los viajes\n",
    "\n",
    "- average_trips: el promedio de viajes que terminaron en cada barrio en noviembre de 2017.\n",
    "\n",
    "3. project_sql_result_07.csv: Contiene datos sobre viajes desde el Loop hasta el Aeropuerto Internacional O'Hare. Contiene los siguientes datos:\n",
    "\n",
    "- start_ts: fecha y hora de recogida\n",
    "\n",
    "- weather_conditions: condiciones climáticas en el momento en el que comenzó el viaje\n",
    "\n",
    "- duration_seconds: duración del viaje en segundos"
   ]
  },
  {
   "cell_type": "markdown",
   "metadata": {},
   "source": [
    "## Etapa 2. Preprocesamiento de datos <a id='data_preprocessing)'>"
   ]
  },
  {
   "cell_type": "code",
   "execution_count": 50,
   "metadata": {},
   "outputs": [],
   "source": [
    "#importamos librerias necesarias\n",
    "import pandas as pd\n",
    "import numpy as np\n",
    "import matplotlib.pyplot as plt\n",
    "from scipy import stats as st"
   ]
  },
  {
   "cell_type": "markdown",
   "metadata": {},
   "source": [
    "## Exploracion Inicial de Datos"
   ]
  },
  {
   "cell_type": "code",
   "execution_count": 45,
   "metadata": {},
   "outputs": [],
   "source": [
    "#cargamos los datasets\n",
    "df_1=pd.read_csv('project_sql_result_01.csv')\n",
    "df_2=pd.read_csv('project_sql_result_04.csv')\n",
    "df_3=pd.read_csv('project_sql_result_07.csv')"
   ]
  },
  {
   "cell_type": "code",
   "execution_count": 46,
   "metadata": {},
   "outputs": [
    {
     "name": "stdout",
     "output_type": "stream",
     "text": [
      "       trips_amount\n",
      "count     64.000000\n",
      "mean    2145.484375\n",
      "std     3812.310186\n",
      "min        2.000000\n",
      "25%       20.750000\n",
      "50%      178.500000\n",
      "75%     2106.500000\n",
      "max    19558.000000\n",
      "<class 'pandas.core.frame.DataFrame'>\n",
      "RangeIndex: 64 entries, 0 to 63\n",
      "Data columns (total 2 columns):\n",
      " #   Column        Non-Null Count  Dtype \n",
      "---  ------        --------------  ----- \n",
      " 0   company_name  64 non-null     object\n",
      " 1   trips_amount  64 non-null     int64 \n",
      "dtypes: int64(1), object(1)\n",
      "memory usage: 1.1+ KB\n",
      "None\n",
      "                      company_name  trips_amount\n",
      "0                        Flash Cab         19558\n",
      "1        Taxi Affiliation Services         11422\n",
      "2                 Medallion Leasin         10367\n",
      "3                       Yellow Cab          9888\n",
      "4  Taxi Affiliation Service Yellow          9299\n"
     ]
    }
   ],
   "source": [
    "print(df_1.describe())\n",
    "print(df_1.info())\n",
    "print(df_1.head())"
   ]
  },
  {
   "cell_type": "markdown",
   "metadata": {},
   "source": [
    "Con la informacion del dataset 1 y una vista rapida con el metodo describe empezamos a ver en que podemos trabajar. Observamos el numero de filas, y algunas estadisticas iniciales, contando con un promedio de viajes de 2145. Con el metodo info y head observamos que no hay datos nulos, y los tipos de datos son correctos."
   ]
  },
  {
   "cell_type": "code",
   "execution_count": 47,
   "metadata": {},
   "outputs": [
    {
     "name": "stdout",
     "output_type": "stream",
     "text": [
      "       average_trips\n",
      "count      94.000000\n",
      "mean      599.953728\n",
      "std      1714.591098\n",
      "min         1.800000\n",
      "25%        14.266667\n",
      "50%        52.016667\n",
      "75%       298.858333\n",
      "max     10727.466667\n",
      "<class 'pandas.core.frame.DataFrame'>\n",
      "RangeIndex: 94 entries, 0 to 93\n",
      "Data columns (total 2 columns):\n",
      " #   Column                 Non-Null Count  Dtype  \n",
      "---  ------                 --------------  -----  \n",
      " 0   dropoff_location_name  94 non-null     object \n",
      " 1   average_trips          94 non-null     float64\n",
      "dtypes: float64(1), object(1)\n",
      "memory usage: 1.6+ KB\n",
      "None\n",
      "  dropoff_location_name  average_trips\n",
      "0                  Loop   10727.466667\n",
      "1           River North    9523.666667\n",
      "2         Streeterville    6664.666667\n",
      "3             West Loop    5163.666667\n",
      "4                O'Hare    2546.900000\n"
     ]
    }
   ],
   "source": [
    "print(df_2.describe())\n",
    "print(df_2.info())\n",
    "print(df_2.head())"
   ]
  },
  {
   "cell_type": "markdown",
   "metadata": {},
   "source": [
    "Con la informacion del dataset 2 y una vista rapida con el metodo describe empezamos a ver en que podemos trabajar. Observamos el numero de filas, y algunas estadisticas iniciales, contando con un promedio de viajes de casi 600. Con el metodo info y head observamos que no hay datos nulos, y los tipos de datos son correctos. Ademas de que el maximo destino final es Loop con 10727 viajes en promedio."
   ]
  },
  {
   "cell_type": "code",
   "execution_count": 48,
   "metadata": {},
   "outputs": [
    {
     "name": "stdout",
     "output_type": "stream",
     "text": [
      "       duration_seconds\n",
      "count       1068.000000\n",
      "mean        2071.731273\n",
      "std          769.461125\n",
      "min            0.000000\n",
      "25%         1438.250000\n",
      "50%         1980.000000\n",
      "75%         2580.000000\n",
      "max         7440.000000\n",
      "<class 'pandas.core.frame.DataFrame'>\n",
      "RangeIndex: 1068 entries, 0 to 1067\n",
      "Data columns (total 3 columns):\n",
      " #   Column              Non-Null Count  Dtype  \n",
      "---  ------              --------------  -----  \n",
      " 0   start_ts            1068 non-null   object \n",
      " 1   weather_conditions  1068 non-null   object \n",
      " 2   duration_seconds    1068 non-null   float64\n",
      "dtypes: float64(1), object(2)\n",
      "memory usage: 25.2+ KB\n",
      "None\n",
      "              start_ts weather_conditions  duration_seconds\n",
      "0  2017-11-25 16:00:00               Good            2410.0\n",
      "1  2017-11-25 14:00:00               Good            1920.0\n",
      "2  2017-11-25 12:00:00               Good            1543.0\n",
      "3  2017-11-04 10:00:00               Good            2512.0\n",
      "4  2017-11-11 07:00:00               Good            1440.0\n"
     ]
    }
   ],
   "source": [
    "print(df_3.describe())\n",
    "print(df_3.info())\n",
    "print(df_3.head())"
   ]
  },
  {
   "cell_type": "markdown",
   "metadata": {},
   "source": [
    "Con la informacion del dataset 3 y una vista rapida con el metodo describe empezamos a ver en que podemos trabajar. Observamos el numero de filas, y algunas estadisticas iniciales, contando con un promedio de viajes de 2071. Con el metodo info y head observamos que no hay datos nulos, y en los tipos de datos debemos cambiar el start_ts ya que se refiere a una fecha no un object. Tambien tenemos que la duracion en segundos esta en float lo cual lo pudieramos cambiar a int si no cambia el resultado final corroborando con el metodo np_equal_array."
   ]
  },
  {
   "cell_type": "code",
   "execution_count": 51,
   "metadata": {},
   "outputs": [
    {
     "data": {
      "text/plain": [
       "True"
      ]
     },
     "execution_count": 51,
     "metadata": {},
     "output_type": "execute_result"
    }
   ],
   "source": [
    "#cambiamos de tipo object a datetime\n",
    "df_3['start_ts']= pd.to_datetime(df_3['start_ts'])\n",
    "#verificamos si es sseguro cambiar de float a int\n",
    "np.array_equal(df_3['duration_seconds'],df_3['duration_seconds'].astype('int'))"
   ]
  },
  {
   "cell_type": "code",
   "execution_count": 52,
   "metadata": {},
   "outputs": [
    {
     "name": "stdout",
     "output_type": "stream",
     "text": [
      "<class 'pandas.core.frame.DataFrame'>\n",
      "RangeIndex: 1068 entries, 0 to 1067\n",
      "Data columns (total 3 columns):\n",
      " #   Column              Non-Null Count  Dtype         \n",
      "---  ------              --------------  -----         \n",
      " 0   start_ts            1068 non-null   datetime64[ns]\n",
      " 1   weather_conditions  1068 non-null   object        \n",
      " 2   duration_seconds    1068 non-null   int32         \n",
      "dtypes: datetime64[ns](1), int32(1), object(1)\n",
      "memory usage: 21.0+ KB\n"
     ]
    }
   ],
   "source": [
    "#cambiamos de tipo y verificamos\n",
    "df_3['duration_seconds']=df_3['duration_seconds'].astype('int')\n",
    "df_3.info()"
   ]
  },
  {
   "cell_type": "code",
   "execution_count": 35,
   "metadata": {},
   "outputs": [
    {
     "data": {
      "text/plain": [
       "0"
      ]
     },
     "execution_count": 35,
     "metadata": {},
     "output_type": "execute_result"
    }
   ],
   "source": [
    "df_1.duplicated().sum()"
   ]
  },
  {
   "cell_type": "code",
   "execution_count": 36,
   "metadata": {},
   "outputs": [
    {
     "data": {
      "text/plain": [
       "0"
      ]
     },
     "execution_count": 36,
     "metadata": {},
     "output_type": "execute_result"
    }
   ],
   "source": [
    "df_2.duplicated().sum()"
   ]
  },
  {
   "cell_type": "code",
   "execution_count": 37,
   "metadata": {},
   "outputs": [
    {
     "data": {
      "text/plain": [
       "197"
      ]
     },
     "execution_count": 37,
     "metadata": {},
     "output_type": "execute_result"
    }
   ],
   "source": [
    "df_3.duplicated().sum()"
   ]
  },
  {
   "cell_type": "code",
   "execution_count": 38,
   "metadata": {},
   "outputs": [
    {
     "data": {
      "text/plain": [
       "0"
      ]
     },
     "execution_count": 38,
     "metadata": {},
     "output_type": "execute_result"
    }
   ],
   "source": [
    "df_3=df_3.drop_duplicates()\n",
    "df_3.duplicated().sum()"
   ]
  },
  {
   "cell_type": "markdown",
   "metadata": {},
   "source": [
    "## Analisis de Datos"
   ]
  },
  {
   "cell_type": "markdown",
   "metadata": {},
   "source": [
    "Identificaremos los 10 principales barrios en términos de finalización."
   ]
  },
  {
   "cell_type": "code",
   "execution_count": 39,
   "metadata": {},
   "outputs": [
    {
     "name": "stdout",
     "output_type": "stream",
     "text": [
      "                       average_trips\n",
      "dropoff_location_name               \n",
      "Loop                    10727.466667\n",
      "River North              9523.666667\n",
      "Streeterville            6664.666667\n",
      "West Loop                5163.666667\n",
      "O'Hare                   2546.900000\n",
      "Lake View                2420.966667\n",
      "Grant Park               2068.533333\n",
      "Museum Campus            1510.000000\n",
      "Gold Coast               1364.233333\n",
      "Sheffield & DePaul       1259.766667\n"
     ]
    }
   ],
   "source": [
    "df_top_names = df_2.groupby('dropoff_location_name').sum().sort_values(by='average_trips', ascending=False)\n",
    "df_top_names = df_top_names.head(10)\n",
    "print(df_top_names)"
   ]
  },
  {
   "cell_type": "code",
   "execution_count": 40,
   "metadata": {},
   "outputs": [
    {
     "name": "stdout",
     "output_type": "stream",
     "text": [
      "                                   trips_amount\n",
      "company_name                                   \n",
      "Flash Cab                                 19558\n",
      "Taxi Affiliation Services                 11422\n",
      "Medallion Leasin                          10367\n",
      "Yellow Cab                                 9888\n",
      "Taxi Affiliation Service Yellow            9299\n",
      "Chicago Carriage Cab Corp                  9181\n",
      "City Service                               8448\n",
      "Sun Taxi                                   7701\n",
      "Star North Management LLC                  7455\n",
      "Blue Ribbon Taxi Association Inc.          5953\n"
     ]
    }
   ],
   "source": [
    "df_names = df_1.groupby('company_name').sum().sort_values(by='trips_amount', ascending=False)\n",
    "df_names = df_names.head(10)\n",
    "print(df_names)"
   ]
  },
  {
   "cell_type": "code",
   "execution_count": 41,
   "metadata": {},
   "outputs": [
    {
     "data": {
      "image/png": "[encoded data removed]",
      "text/plain": [
       "<Figure size 640x480 with 1 Axes>"
      ]
     },
     "metadata": {},
     "output_type": "display_data"
    },
    {
     "data": {
      "image/png": "[encoded data removed]",
      "text/plain": [
       "<Figure size 640x480 with 1 Axes>"
      ]
     },
     "metadata": {},
     "output_type": "display_data"
    }
   ],
   "source": [
    "df_top_bar= df_top_names.plot(kind='bar', title='Top neighborhood finish point',ylabel='average_trips')\n",
    "\n",
    "df_name_bar=df_names.plot(kind='bar', title='Top Company Taxi',ylabel='total_trips')\n",
    "\n",
    "plt.show()"
   ]
  },
  {
   "cell_type": "markdown",
   "metadata": {},
   "source": [
    "Se puede observar que el mejor dropoof location es Loop (el mas popular), y la compañia de taxis que mas viajes tuvo entre el 15 y 16 de noviembre del 2017 fue Flash Cab"
   ]
  },
  {
   "cell_type": "markdown",
   "metadata": {},
   "source": [
    "## Etapa 3. Prueba de Hipotesis <a id='hypothesis'></a>"
   ]
  },
  {
   "cell_type": "markdown",
   "metadata": {},
   "source": [
    "H0: La duración promedio de los viajes desde el Loop hasta el Aeropuerto Internacional O'Hare cambia los sábados lluviosos.\n",
    "\n",
    "\n"
   ]
  },
  {
   "cell_type": "code",
   "execution_count": 42,
   "metadata": {},
   "outputs": [
    {
     "name": "stdout",
     "output_type": "stream",
     "text": [
      "                     duration_seconds\n",
      "start_ts                             \n",
      "2017-11-04 16:00:00       2942.275862\n",
      "2017-11-04 17:00:00       2448.562500\n",
      "2017-11-04 18:00:00       2207.357143\n",
      "2017-11-18 00:00:00        480.000000\n",
      "2017-11-18 07:00:00       1402.333333\n",
      "2017-11-18 08:00:00       1451.266667\n",
      "2017-11-18 09:00:00       1378.500000\n",
      "2017-11-18 10:00:00       1813.545455\n",
      "2017-11-18 12:00:00       2816.409091\n",
      "2017-11-18 13:00:00       3322.769231\n",
      "2017-11-18 16:00:00       2801.888889\n",
      "2017-11-18 17:00:00       2418.333333\n",
      "2017-11-18 21:00:00       1748.000000\n"
     ]
    }
   ],
   "source": [
    "df_3_rain=df_3[(df_3['start_ts'].dt.dayofweek == 5) & (df_3['weather_conditions']== 'Bad')]\n",
    "df_3_rain= pd.pivot_table(df_3_rain,values='duration_seconds',aggfunc='mean',\n",
    "                              index='start_ts')\n",
    "print(df_3_rain)"
   ]
  },
  {
   "cell_type": "code",
   "execution_count": 43,
   "metadata": {},
   "outputs": [
    {
     "name": "stdout",
     "output_type": "stream",
     "text": [
      "                     duration_seconds\n",
      "start_ts                             \n",
      "2017-11-04 00:00:00       1560.000000\n",
      "2017-11-04 01:00:00          0.000000\n",
      "2017-11-04 02:00:00       2956.000000\n",
      "2017-11-04 04:00:00       1393.800000\n",
      "2017-11-04 05:00:00       1316.625000\n",
      "...                               ...\n",
      "2017-11-25 17:00:00       2400.000000\n",
      "2017-11-25 18:00:00       2888.857143\n",
      "2017-11-25 19:00:00       2280.000000\n",
      "2017-11-25 20:00:00       2040.000000\n",
      "2017-11-25 23:00:00       1500.000000\n",
      "\n",
      "[68 rows x 1 columns]\n"
     ]
    }
   ],
   "source": [
    "df_3_sunny=df_3[(df_3['start_ts'].dt.dayofweek == 5) & (df_3['weather_conditions']== 'Good')]\n",
    "df_3_sunny= pd.pivot_table(df_3_sunny,values='duration_seconds',aggfunc='mean',\n",
    "                              index='start_ts')\n",
    "print(df_3_sunny)"
   ]
  },
  {
   "cell_type": "code",
   "execution_count": 44,
   "metadata": {},
   "outputs": [
    {
     "name": "stdout",
     "output_type": "stream",
     "text": [
      "Las varianzas son iguales\n",
      "No podemos rechazar la hipótesis nula\n",
      "valor p:  0.24167305189190524\n"
     ]
    }
   ],
   "source": [
    "# Prueba si las varianzas son iguales\n",
    "levene_results = st.levene(df_3_rain['duration_seconds'], df_3_sunny['duration_seconds'])\n",
    "\n",
    "\n",
    "# Evaluar el resultado de la prueba de Levene\n",
    "if levene_results.pvalue < 0.05:\n",
    "    print(\"Las varianzas no son iguales\")\n",
    "    equal_var = False\n",
    "else:\n",
    "    print(\"Las varianzas son iguales\")\n",
    "    equal_var = True\n",
    "\n",
    "# Prueba las hipótesis\n",
    "results_first=st.ttest_ind(df_3_rain['duration_seconds'],df_3_sunny['duration_seconds'],equal_var = equal_var)\n",
    "alpha=0.05\n",
    "\n",
    "if (results_first.pvalue<alpha):\n",
    "    print(\"Rechazamos la hipótesis nula\")\n",
    "else:\n",
    "    print(\"No podemos rechazar la hipótesis nula\")\n",
    "\n",
    "print('valor p: ', results_first.pvalue) # extraer el valor p"
   ]
  },
  {
   "cell_type": "markdown",
   "metadata": {},
   "source": [
    "Formulamos las hipotesis a base de la hipotesis de dos colas ya que se buscaba probar si las medias eran iguales o diferentes entre dos grupos.\n",
    "se probo la hipotesis con el valor p y con un alpha del 5%. dandonos como resulta que no podemos rechazar la hipotesis, es decir que los viajes en promedio cambian los sabados lluviosos."
   ]
  },
  {
   "cell_type": "markdown",
   "metadata": {},
   "source": [
    "## Conclusion <a id='end'></a>\n",
    "\n",
    "Se concluyo que el análisis de datos puede revelar patrones de preferencia de viaje entre los pasajeros de Zuber. Esto incluiría información sobre barrios preferidos de descarga y compañia de taxis mas popular.\n",
    "\n",
    "Se puede concluir que si se encuentra una diferencia significativa en la duración de los viajes los sábados lluviosos en comparación con los sábados no lluviosos, sugeriendo que el clima influye en el tráfico y, por lo tanto, en el tiempo de viaje.\n",
    "\n",
    "Tambien se probo la hipotesis de que la duración promedio de los viajes desde el Loop hasta el Aeropuerto Internacional O'Hare cambia en los sábados lluviosos.\n"
   ]
  }
 ],
 "metadata": {
  "ExecuteTimeLog": [
   {
    "duration": 12,
    "start_time": "2024-06-06T18:51:57.115Z"
   },
   {
    "duration": 14,
    "start_time": "2024-06-06T21:49:25.510Z"
   }
  ],
  "kernelspec": {
   "display_name": "Python 3 (ipykernel)",
   "language": "python",
   "name": "python3"
  },
  "language_info": {
   "codemirror_mode": {
    "name": "ipython",
    "version": 3
   },
   "file_extension": ".py",
   "mimetype": "text/x-python",
   "name": "python",
   "nbconvert_exporter": "python",
   "pygments_lexer": "ipython3",
   "version": "3.9.19"
  },
  "toc": {
   "base_numbering": 1,
   "nav_menu": {},
   "number_sections": true,
   "sideBar": true,
   "skip_h1_title": true,
   "title_cell": "Table of Contents",
   "title_sidebar": "Contents",
   "toc_cell": false,
   "toc_position": {
    "height": "calc(100% - 180px)",
    "left": "10px",
    "top": "150px",
    "width": "316.264px"
   },
   "toc_section_display": true,
   "toc_window_display": true
  }
 },
 "nbformat": 4,
 "nbformat_minor": 2
}
